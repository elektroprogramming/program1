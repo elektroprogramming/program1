{
 "cells": [
  {
   "cell_type": "markdown",
   "metadata": {},
   "source": [
    "# SEQUENTIAL SEARCH"
   ]
  },
  {
   "cell_type": "code",
   "execution_count": 11,
   "metadata": {},
   "outputs": [],
   "source": [
    "def sequential(data,value):\n",
    "    start = 0\n",
    "    temp = False\n",
    "    while start < len(data) and not temp:\n",
    "        #membandingkan value dengan nilai dalam array\n",
    "        if data[start] == value:\n",
    "            temp = True\n",
    "            print(\" nilai \", value,\" ada di indeks ke- \",start)\n",
    "        else:\n",
    "            start += 1\n",
    "    \n",
    "    return temp\n",
    "        \n",
    "    "
   ]
  },
  {
   "cell_type": "code",
   "execution_count": null,
   "metadata": {},
   "outputs": [],
   "source": [
    "database = [10, 50, 30, 70, 80, 60, 20, 90 ,40]\n",
    "print(database[4])"
   ]
  },
  {
   "cell_type": "markdown",
   "metadata": {},
   "source": [
    "sequential(data,value)"
   ]
  },
  {
   "cell_type": "code",
   "execution_count": null,
   "metadata": {},
   "outputs": [],
   "source": [
    "sequential(database,10)"
   ]
  },
  {
   "cell_type": "markdown",
   "metadata": {},
   "source": [
    "# BINARY SEARCH"
   ]
  },
  {
   "cell_type": "code",
   "execution_count": 15,
   "metadata": {},
   "outputs": [],
   "source": [
    "def binarySearch(data,value):\n",
    "    low = 0 \n",
    "    high = len(data)-1\n",
    "    temp = False\n",
    "    while low <= high and not temp:\n",
    "        mid =(low+high)//2\n",
    "        # membandingkan menemukan ketemu!\n",
    "        if (data[mid] == value):\n",
    "            temp = True\n",
    "            print(\"nilai \",value ,\"ketemu di indek ke-\",mid)\n",
    "        ## membuang sisa yang tidak dibutuhkan\n",
    "        else:\n",
    "            ##jika value yang dicari lebih kecil dari nilai mid\n",
    "            if (value < data[mid]):\n",
    "                high = mid -1\n",
    "            ##jika Value yang dicari lebih besar dari mid \n",
    "            else:\n",
    "                low = mid+1\n",
    "    return temp\n"
   ]
  },
  {
   "cell_type": "code",
   "execution_count": null,
   "metadata": {},
   "outputs": [],
   "source": [
    "database = [10,30,40,5,50,65,77,69,94,100,3,54]\n",
    "# jangan lupa di sorting\n",
    "database.sort()\n"
   ]
  },
  {
   "cell_type": "code",
   "execution_count": null,
   "metadata": {},
   "outputs": [],
   "source": [
    "database"
   ]
  },
  {
   "cell_type": "code",
   "execution_count": null,
   "metadata": {},
   "outputs": [],
   "source": [
    "binarySearch(database,10)"
   ]
  },
  {
   "cell_type": "markdown",
   "metadata": {},
   "source": [
    "# BUBBLE SORT "
   ]
  },
  {
   "cell_type": "code",
   "execution_count": null,
   "metadata": {},
   "outputs": [],
   "source": [
    "database = [3,7,2,9,5,67,1,45,76,31,99,95,90]\n",
    "print(len(database))"
   ]
  },
  {
   "cell_type": "code",
   "execution_count": 7,
   "metadata": {},
   "outputs": [],
   "source": [
    "def bubbleSortAsc(data):\n",
    "    for i in range (len(data)-1,0,-1):\n",
    "        #print(\"langkah\")\n",
    "        for j in range(0,len(data)-1):\n",
    "            if (data[j] > data[j+1]):\n",
    "                data[j],data[j+1] = data[j+1],data[j]\n",
    "        print(data)"
   ]
  },
  {
   "cell_type": "code",
   "execution_count": 6,
   "metadata": {},
   "outputs": [],
   "source": [
    "def bubbleSortDesc(data):\n",
    "    for i in range (len(data)-1,0,-1):\n",
    "        #print(\"langkah\")\n",
    "        for j in range(0,len(data)-1):\n",
    "            if (data[j] < data[j+1]):\n",
    "                data[j],data[j+1] = data[j+1],data[j]\n",
    "        print(data)"
   ]
  },
  {
   "cell_type": "code",
   "execution_count": null,
   "metadata": {},
   "outputs": [],
   "source": [
    "database\n"
   ]
  },
  {
   "cell_type": "code",
   "execution_count": null,
   "metadata": {},
   "outputs": [],
   "source": [
    "bubbleSortAsc(database)"
   ]
  },
  {
   "cell_type": "markdown",
   "metadata": {},
   "source": [
    "# SELECTION SORT"
   ]
  },
  {
   "cell_type": "code",
   "execution_count": null,
   "metadata": {},
   "outputs": [],
   "source": [
    "data1 = [3,6,1,7,18,9,12,33,43,15,91,43]"
   ]
  },
  {
   "cell_type": "code",
   "execution_count": 1,
   "metadata": {},
   "outputs": [],
   "source": [
    "def selectioSort(data):\n",
    "    #print(\"data awal  \\n\",data)\n",
    "    langkah = 0\n",
    "    for i in range (len(data)-1,0,-1):\n",
    "       # print(\"langkah ke-\",langkah)\n",
    "        m=0\n",
    "        for j in range(1,i+1):\n",
    "            if data[j]> data[m]:\n",
    "                m = j \n",
    "        temp = data[i]\n",
    "        data[i]=data[m]\n",
    "        data[m]= temp\n",
    "    \n",
    "        langkah+=1\n",
    "       # print(data)"
   ]
  },
  {
   "cell_type": "code",
   "execution_count": null,
   "metadata": {},
   "outputs": [],
   "source": [
    "data1"
   ]
  },
  {
   "cell_type": "code",
   "execution_count": null,
   "metadata": {},
   "outputs": [],
   "source": [
    "selectioSort(data1)"
   ]
  },
  {
   "cell_type": "markdown",
   "metadata": {},
   "source": [
    "# WAKTU KOMPUTASI"
   ]
  },
  {
   "cell_type": "code",
   "execution_count": 2,
   "metadata": {},
   "outputs": [],
   "source": [
    "import time\n",
    "def pengukuran(data):\n",
    "    mulai = time.time()\n",
    "    selectioSort(data)\n",
    "    finish = time.time()-mulai\n",
    "    return finish\n",
    "    "
   ]
  },
  {
   "cell_type": "code",
   "execution_count": 3,
   "metadata": {},
   "outputs": [],
   "source": [
    "data = [3,5,2,6,7,23,56,4,72,1,73,8,45,22,76,49,10]"
   ]
  },
  {
   "cell_type": "code",
   "execution_count": 4,
   "metadata": {},
   "outputs": [],
   "source": [
    "#waktu komputasi selection sort"
   ]
  },
  {
   "cell_type": "code",
   "execution_count": 5,
   "metadata": {},
   "outputs": [
    {
     "data": {
      "text/plain": [
       "1.2159347534179688e-05"
      ]
     },
     "execution_count": 5,
     "metadata": {},
     "output_type": "execute_result"
    }
   ],
   "source": [
    "pengukuran(data)"
   ]
  },
  {
   "cell_type": "code",
   "execution_count": 8,
   "metadata": {},
   "outputs": [],
   "source": [
    "import time\n",
    "def pengukuran(data):\n",
    "    mulai = time.time()\n",
    "    bubbleSortAsc(data)\n",
    "    finish = time.time()-mulai\n",
    "    return finish"
   ]
  },
  {
   "cell_type": "code",
   "execution_count": 9,
   "metadata": {},
   "outputs": [
    {
     "name": "stdout",
     "output_type": "stream",
     "text": [
      "[3, 2, 5, 6, 7, 23, 4, 56, 1, 72, 8, 45, 22, 73, 49, 10, 76]\n",
      "[2, 3, 5, 6, 7, 4, 23, 1, 56, 8, 45, 22, 72, 49, 10, 73, 76]\n",
      "[2, 3, 5, 6, 4, 7, 1, 23, 8, 45, 22, 56, 49, 10, 72, 73, 76]\n",
      "[2, 3, 5, 4, 6, 1, 7, 8, 23, 22, 45, 49, 10, 56, 72, 73, 76]\n",
      "[2, 3, 4, 5, 1, 6, 7, 8, 22, 23, 45, 10, 49, 56, 72, 73, 76]\n",
      "[2, 3, 4, 1, 5, 6, 7, 8, 22, 23, 10, 45, 49, 56, 72, 73, 76]\n",
      "[2, 3, 1, 4, 5, 6, 7, 8, 22, 10, 23, 45, 49, 56, 72, 73, 76]\n",
      "[2, 1, 3, 4, 5, 6, 7, 8, 10, 22, 23, 45, 49, 56, 72, 73, 76]\n",
      "[1, 2, 3, 4, 5, 6, 7, 8, 10, 22, 23, 45, 49, 56, 72, 73, 76]\n",
      "[1, 2, 3, 4, 5, 6, 7, 8, 10, 22, 23, 45, 49, 56, 72, 73, 76]\n",
      "[1, 2, 3, 4, 5, 6, 7, 8, 10, 22, 23, 45, 49, 56, 72, 73, 76]\n",
      "[1, 2, 3, 4, 5, 6, 7, 8, 10, 22, 23, 45, 49, 56, 72, 73, 76]\n",
      "[1, 2, 3, 4, 5, 6, 7, 8, 10, 22, 23, 45, 49, 56, 72, 73, 76]\n",
      "[1, 2, 3, 4, 5, 6, 7, 8, 10, 22, 23, 45, 49, 56, 72, 73, 76]\n",
      "[1, 2, 3, 4, 5, 6, 7, 8, 10, 22, 23, 45, 49, 56, 72, 73, 76]\n",
      "[1, 2, 3, 4, 5, 6, 7, 8, 10, 22, 23, 45, 49, 56, 72, 73, 76]\n"
     ]
    },
    {
     "data": {
      "text/plain": [
       "0.000301361083984375"
      ]
     },
     "execution_count": 9,
     "metadata": {},
     "output_type": "execute_result"
    }
   ],
   "source": [
    "data = [3,5,2,6,7,23,56,4,72,1,73,8,45,22,76,49,10]\n",
    "pengukuran(data)"
   ]
  },
  {
   "cell_type": "code",
   "execution_count": 40,
   "metadata": {},
   "outputs": [],
   "source": [
    "#SEARCING sequential\n",
    "import time\n",
    "def pengukuran(data,value):\n",
    "    mulai = time.time()\n",
    "    sequential(data,value)\n",
    "    finish = time.time()-mulai\n",
    "    return finish"
   ]
  },
  {
   "cell_type": "code",
   "execution_count": 41,
   "metadata": {},
   "outputs": [
    {
     "name": "stdout",
     "output_type": "stream",
     "text": [
      " nilai  76  ada di indeks ke-  14\n"
     ]
    },
    {
     "data": {
      "text/plain": [
       "0.0002849102020263672"
      ]
     },
     "execution_count": 41,
     "metadata": {},
     "output_type": "execute_result"
    }
   ],
   "source": [
    "data = [3,5,2,6,7,23,56,4,72,1,73,8,45,22,76,49]\n",
    "pengukuran(data,76)\n"
   ]
  },
  {
   "cell_type": "code",
   "execution_count": 42,
   "metadata": {},
   "outputs": [],
   "source": [
    "#SEARCING binary\n",
    "import time\n",
    "def pengukuran(data,value):\n",
    "    data.sort()\n",
    "    mulai = time.time()\n",
    "    binarySearch(data,value)\n",
    "    finish = time.time()-mulai\n",
    "    return finish"
   ]
  },
  {
   "cell_type": "code",
   "execution_count": 43,
   "metadata": {},
   "outputs": [
    {
     "name": "stdout",
     "output_type": "stream",
     "text": [
      "nilai  76 ketemu di indek ke- 15\n"
     ]
    },
    {
     "data": {
      "text/plain": [
       "0.0007150173187255859"
      ]
     },
     "execution_count": 43,
     "metadata": {},
     "output_type": "execute_result"
    }
   ],
   "source": [
    "data = [3,5,2,6,7,23,56,4,72,1,73,8,45,22,76,49]\n",
    "pengukuran(data,76)\n"
   ]
  },
  {
   "cell_type": "code",
   "execution_count": 35,
   "metadata": {},
   "outputs": [
    {
     "data": {
      "text/plain": [
       "[1, 2, 3, 4, 5, 6, 7, 8, 22, 23, 45, 49, 56, 72, 73, 76]"
      ]
     },
     "execution_count": 35,
     "metadata": {},
     "output_type": "execute_result"
    }
   ],
   "source": [
    "data"
   ]
  },
  {
   "cell_type": "code",
   "execution_count": null,
   "metadata": {},
   "outputs": [],
   "source": []
  }
 ],
 "metadata": {
  "kernelspec": {
   "display_name": "Python 3",
   "language": "python",
   "name": "python3"
  },
  "language_info": {
   "codemirror_mode": {
    "name": "ipython",
    "version": 3
   },
   "file_extension": ".py",
   "mimetype": "text/x-python",
   "name": "python",
   "nbconvert_exporter": "python",
   "pygments_lexer": "ipython3",
   "version": "3.7.5rc1"
  }
 },
 "nbformat": 4,
 "nbformat_minor": 2
}
